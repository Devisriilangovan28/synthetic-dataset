{
 "cells": [
  {
   "cell_type": "code",
   "execution_count": 2,
   "id": "ea8d5651-e934-4423-8d49-d06bbe44af73",
   "metadata": {},
   "outputs": [
    {
     "name": "stdout",
     "output_type": "stream",
     "text": [
      "Collecting faker\n",
      "  Downloading Faker-35.2.0-py3-none-any.whl.metadata (15 kB)\n",
      "Requirement already satisfied: python-dateutil>=2.4 in c:\\users\\asus\\anaconda3\\lib\\site-packages (from faker) (2.9.0.post0)\n",
      "Requirement already satisfied: typing-extensions in c:\\users\\asus\\anaconda3\\lib\\site-packages (from faker) (4.11.0)\n",
      "Requirement already satisfied: six>=1.5 in c:\\users\\asus\\anaconda3\\lib\\site-packages (from python-dateutil>=2.4->faker) (1.16.0)\n",
      "Downloading Faker-35.2.0-py3-none-any.whl (1.9 MB)\n",
      "   ---------------------------------------- 0.0/1.9 MB ? eta -:--:--\n",
      "   ---------------------------------------- 0.0/1.9 MB ? eta -:--:--\n",
      "   ---------- ----------------------------- 0.5/1.9 MB 2.1 MB/s eta 0:00:01\n",
      "   ---------- ----------------------------- 0.5/1.9 MB 2.1 MB/s eta 0:00:01\n",
      "   ---------------- ----------------------- 0.8/1.9 MB 1.2 MB/s eta 0:00:01\n",
      "   --------------------------- ------------ 1.3/1.9 MB 1.5 MB/s eta 0:00:01\n",
      "   ---------------------------------------- 1.9/1.9 MB 1.7 MB/s eta 0:00:00\n",
      "Installing collected packages: faker\n",
      "Successfully installed faker-35.2.0\n",
      "Note: you may need to restart the kernel to use updated packages.\n"
     ]
    }
   ],
   "source": [
    "pip install faker\n"
   ]
  },
  {
   "cell_type": "code",
   "execution_count": 3,
   "id": "470e9b04-4974-467c-8e60-e23fffbab30c",
   "metadata": {},
   "outputs": [
    {
     "name": "stdout",
     "output_type": "stream",
     "text": [
      "Requirement already satisfied: faker in c:\\users\\asus\\anaconda3\\lib\\site-packages (35.2.0)\n",
      "Requirement already satisfied: python-dateutil>=2.4 in c:\\users\\asus\\anaconda3\\lib\\site-packages (from faker) (2.9.0.post0)\n",
      "Requirement already satisfied: typing-extensions in c:\\users\\asus\\anaconda3\\lib\\site-packages (from faker) (4.11.0)\n",
      "Requirement already satisfied: six>=1.5 in c:\\users\\asus\\anaconda3\\lib\\site-packages (from python-dateutil>=2.4->faker) (1.16.0)\n"
     ]
    }
   ],
   "source": [
    "!pip install faker\n"
   ]
  },
  {
   "cell_type": "code",
   "execution_count": null,
   "id": "bfddab27-23ee-45df-89d3-131614b65abe",
   "metadata": {},
   "outputs": [],
   "source": []
  },
  {
   "cell_type": "code",
   "execution_count": 1,
   "id": "4fb3a6bc-f7c7-478f-8410-b0338f8b1832",
   "metadata": {},
   "outputs": [
    {
     "name": "stdout",
     "output_type": "stream",
     "text": [
      "Choose an option:\n",
      "1. Generate a Random Dataset\n",
      "2. Create a Dataset Manually\n"
     ]
    },
    {
     "name": "stdin",
     "output_type": "stream",
     "text": [
      "Enter your choice (1 or 2):  1\n",
      "Enter the number of records to generate:  30\n"
     ]
    },
    {
     "name": "stdout",
     "output_type": "stream",
     "text": [
      "\n",
      "Generated Dataset:\n",
      "     Course Name (Required) Course ID Attempt ID      Candidate Name  \\\n",
      "0   Machine Learning Basics      C510  Attempt 1     Carolyn Sanchez   \n",
      "1   Machine Learning Basics      C314  Attempt 3   Patricia Franklin   \n",
      "2   Machine Learning Basics      C326  Attempt 1        Jerome Woods   \n",
      "3   Python for Data Science      C173  Attempt 1        Karen Pierce   \n",
      "4   Machine Learning Basics      C254  Attempt 1      Steven Leonard   \n",
      "5           AI Fundamentals      C209  Attempt 2  Catherine Williams   \n",
      "6   Machine Learning Basics      C925  Attempt 3     Autumn Martinez   \n",
      "7           AI Fundamentals      C379  Attempt 2      James Phillips   \n",
      "8           AI Fundamentals      C625  Attempt 3        Katie Duarte   \n",
      "9   Python for Data Science      C344  Attempt 3       Cesar Shaffer   \n",
      "10  Machine Learning Basics      C956  Attempt 2        Michael Diaz   \n",
      "11  Machine Learning Basics      C609  Attempt 3         Larry Klein   \n",
      "12  Machine Learning Basics      C218  Attempt 3            Don Paul   \n",
      "13          AI Fundamentals      C862  Attempt 2            Adam May   \n",
      "14  Python for Data Science      C540  Attempt 3          Emily Bell   \n",
      "15  Machine Learning Basics      C705  Attempt 3       Sheila Lozano   \n",
      "16  Python for Data Science      C805  Attempt 3        Sherri Brown   \n",
      "17  Machine Learning Basics      C686  Attempt 2       Austin Torres   \n",
      "18          AI Fundamentals      C643  Attempt 2        Angela Bates   \n",
      "19  Machine Learning Basics      C574  Attempt 3         Sean Gibson   \n",
      "20  Machine Learning Basics      C721  Attempt 3  Walter Collins DDS   \n",
      "21  Machine Learning Basics      C912  Attempt 1      Austin Collins   \n",
      "22          AI Fundamentals      C303  Attempt 1       David Vazquez   \n",
      "23          AI Fundamentals      C178  Attempt 3      Jennifer Jones   \n",
      "24  Machine Learning Basics      C664  Attempt 2         Kevin Hayes   \n",
      "25  Machine Learning Basics      C403  Attempt 2        Mark Rosales   \n",
      "26  Machine Learning Basics      C712  Attempt 1        Julie Cooley   \n",
      "27  Machine Learning Basics      C369  Attempt 2       Rebecca Ortiz   \n",
      "28  Machine Learning Basics      C709  Attempt 2         Rhonda Webb   \n",
      "29  Python for Data Science      C119  Attempt 2         Debra Watts   \n",
      "\n",
      "                  Candidate Email  Mark Grade  \n",
      "0               ian68@example.net    77    B+  \n",
      "1   christophergibson@example.com    88     A  \n",
      "2        michaelgreen@example.com    81     D  \n",
      "3              john43@example.net    96     C  \n",
      "4          toddjensen@example.net   100    A+  \n",
      "5           heidihess@example.org    90    B+  \n",
      "6          roachkeith@example.org    54     D  \n",
      "7     mallorywilliams@example.org    61     C  \n",
      "8               ibarr@example.net    89     D  \n",
      "9        garciaandrew@example.net    51    A+  \n",
      "10              vvega@example.com    90    A+  \n",
      "11      princekaitlyn@example.com    88     B  \n",
      "12      matthewgalvan@example.org    97    A+  \n",
      "13            ybrewer@example.com    59    A+  \n",
      "14          ryanmoore@example.org    59    A+  \n",
      "15    fletcherwilliam@example.com    62     D  \n",
      "16      charleswright@example.com    52     D  \n",
      "17            david36@example.com    81     D  \n",
      "18      edwardmurillo@example.net    69    B+  \n",
      "19             nsmith@example.org    78    B+  \n",
      "20            maria37@example.org    85     B  \n",
      "21          william07@example.org    55     A  \n",
      "22          carlamoon@example.com    86    B+  \n",
      "23     blackwelllaura@example.com    69     A  \n",
      "24             john74@example.com    75     B  \n",
      "25     richardmaxwell@example.org    81    B+  \n",
      "26            kdavies@example.net    73     B  \n",
      "27    mccannkatherine@example.net    96     A  \n",
      "28             sevans@example.org    91     D  \n",
      "29         bpatterson@example.net    76     D  \n"
     ]
    },
    {
     "name": "stdin",
     "output_type": "stream",
     "text": [
      "Do you want to save the dataset? (yes/no):  yes\n",
      "Enter filename (without extension):  newproject.csv\n"
     ]
    },
    {
     "name": "stdout",
     "output_type": "stream",
     "text": [
      "Dataset saved as newproject.csv.csv\n"
     ]
    }
   ],
   "source": [
    "import pandas as pd\n",
    "import random\n",
    "from faker import Faker\n",
    "\n",
    "def generate_random_dataset(num_records=10):\n",
    "    fake = Faker()\n",
    "    data = []\n",
    "    for _ in range(num_records):\n",
    "        data.append([\n",
    "            random.choice([\"Python for Data Science\", \"Machine Learning Basics\", \"AI Fundamentals\"]),\n",
    "            f\"C{random.randint(100,999)}\",\n",
    "            f\"Attempt {random.randint(1,3)}\",\n",
    "            fake.name(),\n",
    "            fake.email(),\n",
    "            random.randint(50, 100),\n",
    "            random.choice([\"A+\", \"A\", \"B+\", \"B\", \"C\", \"D\"])\n",
    "        ])\n",
    "    df = pd.DataFrame(data, columns=[\"Course Name (Required)\", \"Course ID\", \"Attempt ID\", \"Candidate Name\", \"Candidate Email\", \"Mark\", \"Grade\"])\n",
    "    return df\n",
    "\n",
    "def create_manual_dataset():\n",
    "    data = []\n",
    "    while True:\n",
    "        course_name = input(\"Enter Course Name (or type 'exit' to stop): \")\n",
    "        if course_name.lower() == 'exit':\n",
    "            break\n",
    "        course_id = input(\"Enter Course ID: \")\n",
    "        attempt_id = input(\"Enter Attempt ID (Attempt 1, 2, 3): \")\n",
    "        candidate_name = input(\"Enter Candidate Name: \")\n",
    "        candidate_email = input(\"Enter Candidate Email: \")\n",
    "        mark = input(\"Enter Mark: \")\n",
    "        grade = input(\"Enter Grade: \")\n",
    "        data.append([course_name, course_id, attempt_id, candidate_name, candidate_email, mark, grade])\n",
    "    \n",
    "    df = pd.DataFrame(data, columns=[\"Course Name (Required)\", \"Course ID\", \"Attempt ID\", \"Candidate Name\", \"Candidate Email\", \"Mark\", \"Grade\"])\n",
    "    return df\n",
    "\n",
    "def main():\n",
    "    print(\"Choose an option:\")\n",
    "    print(\"1. Generate a Random Dataset\")\n",
    "    print(\"2. Create a Dataset Manually\")\n",
    "    choice = input(\"Enter your choice (1 or 2): \")\n",
    "    \n",
    "    if choice == '1':\n",
    "        num_records = int(input(\"Enter the number of records to generate: \"))\n",
    "        dataset = generate_random_dataset(num_records)\n",
    "    elif choice == '2':\n",
    "        dataset = create_manual_dataset()\n",
    "    else:\n",
    "        print(\"Invalid choice. Exiting...\")\n",
    "        return\n",
    "    \n",
    "    print(\"\\nGenerated Dataset:\")\n",
    "    print(dataset)\n",
    "    \n",
    "    save_option = input(\"Do you want to save the dataset? (yes/no): \")\n",
    "    if save_option.lower() == 'yes':\n",
    "        filename = input(\"Enter filename (without extension): \")\n",
    "        dataset.to_csv(f\"{filename}.csv\", index=False)\n",
    "        print(f\"Dataset saved as {filename}.csv\")\n",
    "\n",
    "if __name__ == \"__main__\":\n",
    "     main()"
   ]
  },
  {
   "cell_type": "code",
   "execution_count": 1,
   "id": "261b10bb-ebac-460c-8c98-01ca6523f36d",
   "metadata": {},
   "outputs": [
    {
     "name": "stdout",
     "output_type": "stream",
     "text": [
      "Choose an option:\n",
      "1. Generate a Random Dataset\n",
      "2. Create a Dataset Manually\n"
     ]
    },
    {
     "name": "stdin",
     "output_type": "stream",
     "text": [
      "Enter your choice (1 or 2):  1\n",
      "Enter the number of records to generate:  30\n"
     ]
    },
    {
     "name": "stdout",
     "output_type": "stream",
     "text": [
      "\n",
      "Generated Dataset:\n",
      "     Course Name (Required) Course ID Attempt ID      Candidate Name  \\\n",
      "0   Machine Learning Basics      C510  Attempt 1     Carolyn Sanchez   \n",
      "1   Machine Learning Basics      C314  Attempt 3   Patricia Franklin   \n",
      "2   Machine Learning Basics      C326  Attempt 1        Jerome Woods   \n",
      "3   Python for Data Science      C173  Attempt 1        Karen Pierce   \n",
      "4   Machine Learning Basics      C254  Attempt 1      Steven Leonard   \n",
      "5           AI Fundamentals      C209  Attempt 2  Catherine Williams   \n",
      "6   Machine Learning Basics      C925  Attempt 3     Autumn Martinez   \n",
      "7           AI Fundamentals      C379  Attempt 2      James Phillips   \n",
      "8           AI Fundamentals      C625  Attempt 3        Katie Duarte   \n",
      "9   Python for Data Science      C344  Attempt 3       Cesar Shaffer   \n",
      "10  Machine Learning Basics      C956  Attempt 2        Michael Diaz   \n",
      "11  Machine Learning Basics      C609  Attempt 3         Larry Klein   \n",
      "12  Machine Learning Basics      C218  Attempt 3            Don Paul   \n",
      "13          AI Fundamentals      C862  Attempt 2            Adam May   \n",
      "14  Python for Data Science      C540  Attempt 3          Emily Bell   \n",
      "15  Machine Learning Basics      C705  Attempt 3       Sheila Lozano   \n",
      "16  Python for Data Science      C805  Attempt 3        Sherri Brown   \n",
      "17  Machine Learning Basics      C686  Attempt 2       Austin Torres   \n",
      "18          AI Fundamentals      C643  Attempt 2        Angela Bates   \n",
      "19  Machine Learning Basics      C574  Attempt 3         Sean Gibson   \n",
      "20  Machine Learning Basics      C721  Attempt 3  Walter Collins DDS   \n",
      "21  Machine Learning Basics      C912  Attempt 1      Austin Collins   \n",
      "22          AI Fundamentals      C303  Attempt 1       David Vazquez   \n",
      "23          AI Fundamentals      C178  Attempt 3      Jennifer Jones   \n",
      "24  Machine Learning Basics      C664  Attempt 2         Kevin Hayes   \n",
      "25  Machine Learning Basics      C403  Attempt 2        Mark Rosales   \n",
      "26  Machine Learning Basics      C712  Attempt 1        Julie Cooley   \n",
      "27  Machine Learning Basics      C369  Attempt 2       Rebecca Ortiz   \n",
      "28  Machine Learning Basics      C709  Attempt 2         Rhonda Webb   \n",
      "29  Python for Data Science      C119  Attempt 2         Debra Watts   \n",
      "\n",
      "                  Candidate Email  Mark Grade  \n",
      "0               ian68@example.net    77    B+  \n",
      "1   christophergibson@example.com    88     A  \n",
      "2        michaelgreen@example.com    81     D  \n",
      "3              john43@example.net    96     C  \n",
      "4          toddjensen@example.net   100    A+  \n",
      "5           heidihess@example.org    90    B+  \n",
      "6          roachkeith@example.org    54     D  \n",
      "7     mallorywilliams@example.org    61     C  \n",
      "8               ibarr@example.net    89     D  \n",
      "9        garciaandrew@example.net    51    A+  \n",
      "10              vvega@example.com    90    A+  \n",
      "11      princekaitlyn@example.com    88     B  \n",
      "12      matthewgalvan@example.org    97    A+  \n",
      "13            ybrewer@example.com    59    A+  \n",
      "14          ryanmoore@example.org    59    A+  \n",
      "15    fletcherwilliam@example.com    62     D  \n",
      "16      charleswright@example.com    52     D  \n",
      "17            david36@example.com    81     D  \n",
      "18      edwardmurillo@example.net    69    B+  \n",
      "19             nsmith@example.org    78    B+  \n",
      "20            maria37@example.org    85     B  \n",
      "21          william07@example.org    55     A  \n",
      "22          carlamoon@example.com    86    B+  \n",
      "23     blackwelllaura@example.com    69     A  \n",
      "24             john74@example.com    75     B  \n",
      "25     richardmaxwell@example.org    81    B+  \n",
      "26            kdavies@example.net    73     B  \n",
      "27    mccannkatherine@example.net    96     A  \n",
      "28             sevans@example.org    91     D  \n",
      "29         bpatterson@example.net    76     D  \n"
     ]
    },
    {
     "name": "stdin",
     "output_type": "stream",
     "text": [
      "Do you want to save the dataset? (yes/no):  yes\n",
      "Enter filename (without extension):  newproject.csv\n"
     ]
    },
    {
     "name": "stdout",
     "output_type": "stream",
     "text": [
      "Dataset saved as newproject.csv.csv\n"
     ]
    }
   ],
   "source": [
    "import pandas as pd\n",
    "import random\n",
    "from faker import Faker\n",
    "\n",
    "def generate_random_dataset(num_records=10):\n",
    "    fake = Faker()\n",
    "    data = []\n",
    "    for _ in range(num_records):\n",
    "        data.append([\n",
    "            random.choice([\"Python for Data Science\", \"Machine Learning Basics\", \"AI Fundamentals\"]),\n",
    "            f\"C{random.randint(100,999)}\",\n",
    "            f\"Attempt {random.randint(1,3)}\",\n",
    "            fake.name(),\n",
    "            fake.email(),\n",
    "            random.randint(50, 100),\n",
    "            random.choice([\"A+\", \"A\", \"B+\", \"B\", \"C\", \"D\"])\n",
    "        ])\n",
    "    df = pd.DataFrame(data, columns=[\"Course Name (Required)\", \"Course ID\", \"Attempt ID\", \"Candidate Name\", \"Candidate Email\", \"Mark\", \"Grade\"])\n",
    "    return df\n",
    "\n",
    "def create_manual_dataset():\n",
    "    data = []\n",
    "    while True:\n",
    "        course_name = input(\"Enter Course Name (or type 'exit' to stop): \")\n",
    "        if course_name.lower() == 'exit':\n",
    "            break\n",
    "        course_id = input(\"Enter Course ID: \")\n",
    "        attempt_id = input(\"Enter Attempt ID (Attempt 1, 2, 3): \")\n",
    "        candidate_name = input(\"Enter Candidate Name: \")\n",
    "        candidate_email = input(\"Enter Candidate Email: \")\n",
    "        mark = input(\"Enter Mark: \")\n",
    "        grade = input(\"Enter Grade: \")\n",
    "        data.append([course_name, course_id, attempt_id, candidate_name, candidate_email, mark, grade])\n",
    "    \n",
    "    df = pd.DataFrame(data, columns=[\"Course Name (Required)\", \"Course ID\", \"Attempt ID\", \"Candidate Name\", \"Candidate Email\", \"Mark\", \"Grade\"])\n",
    "    return df\n",
    "\n",
    "def main():\n",
    "    print(\"Choose an option:\")\n",
    "    print(\"1. Generate a Random Dataset\")\n",
    "    print(\"2. Create a Dataset Manually\")\n",
    "    choice = input(\"Enter your choice (1 or 2): \")\n",
    "    \n",
    "    if choice == '1':\n",
    "        num_records = int(input(\"Enter the number of records to generate: \"))\n",
    "        dataset = generate_random_dataset(num_records)\n",
    "    elif choice == '2':\n",
    "        dataset = create_manual_dataset()\n",
    "    else:\n",
    "        print(\"Invalid choice. Exiting...\")\n",
    "        return\n",
    "    \n",
    "    print(\"\\nGenerated Dataset:\")\n",
    "    print(dataset)\n",
    "    \n",
    "    save_option = input(\"Do you want to save the dataset? (yes/no): \")\n",
    "    if save_option.lower() == 'yes':\n",
    "        filename = input(\"Enter filename (without extension): \")\n",
    "        dataset.to_csv(f\"{filename}.csv\", index=False)\n",
    "        print(f\"Dataset saved as {filename}.csv\")\n",
    "\n",
    "if __name__ == \"__main__\":\n",
    "     main()"
   ]
  },
  {
   "cell_type": "code",
   "execution_count": null,
   "id": "cb2792fa-973a-4c7c-af84-faac32478a57",
   "metadata": {},
   "outputs": [],
   "source": []
  }
 ],
 "metadata": {
  "kernelspec": {
   "display_name": "Python 3 (ipykernel)",
   "language": "python",
   "name": "python3"
  },
  "language_info": {
   "codemirror_mode": {
    "name": "ipython",
    "version": 3
   },
   "file_extension": ".py",
   "mimetype": "text/x-python",
   "name": "python",
   "nbconvert_exporter": "python",
   "pygments_lexer": "ipython3",
   "version": "3.12.7"
  }
 },
 "nbformat": 4,
 "nbformat_minor": 5
}
